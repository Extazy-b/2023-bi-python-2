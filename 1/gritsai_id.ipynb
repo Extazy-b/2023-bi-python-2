{
 "cells": [
  {
   "cell_type": "code",
   "execution_count": 1,
   "metadata": {},
   "outputs": [],
   "source": [
    "import matplotlib\n",
    "matplotlib.use('module://ipympl.backend_nbagg')\n",
    "import matplotlib.pyplot as plt\n",
    "import numpy as np\n",
    "import ipywidgets as widgets\n",
    "from IPython.display import display\n",
    "from mpl_toolkits.mplot3d import Axes3D\n",
    "\n",
    "# Функция для отображения зонтика Уитни\n",
    "def plot_whitney_umbrella(a):\n",
    "    fig = plt.figure()\n",
    "    ax = fig.add_subplot(111, projection='3d')\n",
    "    \n",
    "    theta = np.linspace(0, 2*np.pi, 100)\n",
    "    z = np.linspace(-5, 5, 100)\n",
    "    Z, Theta = np.meshgrid(z, theta)\n",
    "    X = a * np.sqrt(1 + Z**2) * np.cos(Theta)\n",
    "    Y = a * np.sqrt(1 + Z**2) * np.sin(Theta)\n",
    "    \n",
    "    ax.plot_surface(X, Y, Z, cmap='viridis')\n",
    "    ax.set_xlabel('X')\n",
    "    ax.set_ylabel('Y')\n",
    "    ax.set_zlabel('Z')\n",
    "    ax.set_xlim(-5, 5)  # Зафиксировать масштаб оси X\n",
    "    ax.set_ylim(-5, 5)  # Зафиксировать масштаб оси Y\n",
    "    ax.set_zlim(-5, 5)  # Зафиксировать масштаб оси Z\n",
    "    plt.title('Whitney Umbrella')\n",
    "    plt.show()\n",
    "\n",
    "# Создаем виджет для изменения параметра a\n",
    "a_slider = widgets.FloatSlider(value=1.0, min=0.1, max=2.0, step=0.1, description='a:',\n",
    "                                continuous_update=False)\n",
    "\n",
    "# Связываем виджет с функцией отображения\n",
    "widgets.interactive(plot_whitney_umbrella, a=a_slider)\n"
   ]
  }
 ],
 "metadata": {
  "kernelspec": {
   "display_name": "Python 3",
   "language": "python",
   "name": "python3"
  },
  "language_info": {
   "codemirror_mode": {
    "name": "ipython",
    "version": 3
   },
   "file_extension": ".py",
   "mimetype": "text/x-python",
   "name": "python",
   "nbconvert_exporter": "python",
   "pygments_lexer": "ipython3",
   "version": "3.8.10"
  }
 },
 "nbformat": 4,
 "nbformat_minor": 5
}
