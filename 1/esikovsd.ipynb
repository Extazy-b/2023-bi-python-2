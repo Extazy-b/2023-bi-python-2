{
 "cells": [
  {
   "cell_type": "markdown",
   "metadata": {},
   "source": [
    "## Hyperbolic paraboloid\n",
    "\n",
    "${\\frac{x}{a}}^2 - {\\frac{y}{b}}^2 - cz = 0$"
   ]
  },
  {
   "cell_type": "markdown",
   "metadata": {},
   "source": [
    "https://en.wikipedia.org/wiki/Paraboloid#Hyperbolic_paraboloid"
   ]
  },
  {
   "cell_type": "markdown",
   "metadata": {},
   "source": [
    "$a, b, c = (1, 1, 1)$\n",
    "\n",
    "\n",
    "$min, max = (-10, 10)$\n",
    "\n",
    "\n",
    "$a, b, c, min, max \\in [-10, 10]$"
   ]
  },
  {
   "cell_type": "code",
   "execution_count": 16,
   "metadata": {},
   "outputs": [
    {
     "data": {
      "application/vnd.jupyter.widget-view+json": {
       "model_id": "ce2cdce3e18c4aafb5822de9a52e6fd9",
       "version_major": 2,
       "version_minor": 0
      },
      "text/plain": [
       "interactive(children=(FloatSlider(value=1.0, description='a', max=10.0), FloatSlider(value=1.0, description='b…"
      ]
     },
     "execution_count": 16,
     "metadata": {},
     "output_type": "execute_result"
    }
   ],
   "source": [
    "import matplotlib.pyplot as plt\n",
    "import numpy as np\n",
    "from ipywidgets import FloatSlider, interactive\n",
    "\n",
    "\n",
    "plt.style.use('_mpl-gallery')\n",
    "\n",
    "\n",
    "def draw(a, b, c, min, max):\n",
    "    fig = plt.figure()\n",
    "    ax = fig.subplots(subplot_kw={\"projection\": \"3d\"})\n",
    "    X = np.arange(min, max, 0.1)\n",
    "    Y = np.arange(min, max, 0.1)\n",
    "    X, Y = np.meshgrid(X, Y)\n",
    "    Z = ((X/a)**2 - (Y/b)**2)/c\n",
    "    ax.plot_surface(X, Y, Z, vmin=Z.min() * 2)\n",
    "    plt.show()\n",
    "\n",
    "a_opt = FloatSlider(\n",
    "    value=1,\n",
    "    min=0,\n",
    "    max=10.0,\n",
    "    step=0.1\n",
    ")\n",
    "b_opt = FloatSlider(\n",
    "    value=1,\n",
    "    min=0,\n",
    "    max=10.0,\n",
    "    step=0.1\n",
    ")\n",
    "c_opt = FloatSlider(\n",
    "    value=1,\n",
    "    min=0,\n",
    "    max=10.0,\n",
    "    step=0.1\n",
    ")\n",
    "min_opt = FloatSlider(\n",
    "    value=-10,\n",
    "    min=-10,\n",
    "    max=10.0,\n",
    "    step=0.1\n",
    ")\n",
    "max_opt = FloatSlider(\n",
    "    value=10,\n",
    "    min=-10,\n",
    "    max=10.0,\n",
    "    step=0.1\n",
    ")\n",
    "\n",
    "\n",
    "interactive(draw, a=a_opt, b=b_opt, c=c_opt, min=min_opt, max=max_opt)\n"
   ]
  },
  {
   "cell_type": "markdown",
   "metadata": {},
   "source": []
  }
 ],
 "metadata": {
  "kernelspec": {
   "display_name": "Python 3",
   "language": "python",
   "name": "python3"
  },
  "language_info": {
   "codemirror_mode": {
    "name": "ipython",
    "version": 3
   },
   "file_extension": ".py",
   "mimetype": "text/x-python",
   "name": "python",
   "nbconvert_exporter": "python",
   "pygments_lexer": "ipython3",
   "version": "3.11.7"
  }
 },
 "nbformat": 4,
 "nbformat_minor": 2
}
